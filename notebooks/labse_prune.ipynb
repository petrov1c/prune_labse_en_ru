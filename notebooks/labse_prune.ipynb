{
 "cells": [
  {
   "cell_type": "code",
   "execution_count": 1,
   "id": "283a3ac9-b845-4677-9392-86ab73088958",
   "metadata": {},
   "outputs": [
    {
     "name": "stdout",
     "output_type": "stream",
     "text": [
      "/home/toor/study/mfti nlp/prune_labse_en_ru\n"
     ]
    },
    {
     "name": "stderr",
     "output_type": "stream",
     "text": [
      "/home/toor/miniconda3/lib/python3.11/site-packages/IPython/core/magics/osm.py:417: UserWarning: This is now an optional IPython functionality, setting dhist requires you to install the `pickleshare` library.\n",
      "  self.shell.db['dhist'] = compress_dhist(dhist)[-100:]\n"
     ]
    }
   ],
   "source": [
    "cd .."
   ]
  },
  {
   "cell_type": "code",
   "execution_count": 2,
   "id": "a0ba8690-fad5-43fd-8c71-8e7589afb855",
   "metadata": {},
   "outputs": [],
   "source": [
    "import os\n",
    "import logging\n",
    "\n",
    "from src.config import Config\n",
    "from src.datamodule import SentenceDM\n",
    "from src.lightning_module import PruneModule\n",
    "from src.pruning_module import prune_model"
   ]
  },
  {
   "cell_type": "code",
   "execution_count": 3,
   "id": "f1a08cca-070d-4a76-957e-2db008de887a",
   "metadata": {},
   "outputs": [],
   "source": [
    "logger = logging.getLogger()\n",
    "logger.setLevel(logging.INFO)\n",
    "\n",
    "os.environ[\"TOKENIZERS_PARALLELISM\"] = \"true\"\n",
    "\n",
    "def msize(m):\n",
    "    return sum(p.numel() for p in m.parameters())"
   ]
  },
  {
   "cell_type": "code",
   "execution_count": 4,
   "id": "41f5a7d0-727d-4d02-bcb8-9399ea8e9fed",
   "metadata": {},
   "outputs": [
    {
     "name": "stdout",
     "output_type": "stream",
     "text": [
      "Режим отладки: True\n",
      "pruning_ratio=0.5 global_pruning=False iterative_steps=1 save_model=True\n"
     ]
    }
   ],
   "source": [
    "config = Config.from_yaml('config/config.yml')\n",
    "\n",
    "datamodule = SentenceDM(config.data_config)\n",
    "model = PruneModule(config)\n",
    "\n",
    "print(f'Режим отладки: {config.data_config.debug}')\n",
    "print(config.pruning)"
   ]
  },
  {
   "cell_type": "code",
   "execution_count": 5,
   "id": "c9ee4064-5563-407d-9bdd-2ea31eef5129",
   "metadata": {},
   "outputs": [
    {
     "name": "stdout",
     "output_type": "stream",
     "text": [
      "Warning! No positional inputs found for a module, assuming batch size is 1.\n"
     ]
    },
    {
     "name": "stderr",
     "output_type": "stream",
     "text": [
      "INFO:root:Model complexity: 176762.91456 MMAC, 128.345088 M params\n",
      "100%|███████████████████████████████████████████| 63/63 [00:05<00:00, 11.25it/s]\n"
     ]
    },
    {
     "name": "stdout",
     "output_type": "stream",
     "text": [
      "Num heads: 12, head size: 64 =>\n",
      "Num heads: 6, head size: 64\n",
      "\n",
      "Num heads: 12, head size: 64 =>\n",
      "Num heads: 6, head size: 64\n",
      "\n",
      "Num heads: 12, head size: 64 =>\n",
      "Num heads: 6, head size: 64\n",
      "\n",
      "Num heads: 12, head size: 64 =>\n",
      "Num heads: 6, head size: 64\n",
      "\n",
      "Num heads: 12, head size: 64 =>\n",
      "Num heads: 6, head size: 64\n",
      "\n",
      "Num heads: 12, head size: 64 =>\n",
      "Num heads: 6, head size: 64\n",
      "\n",
      "Num heads: 12, head size: 64 =>\n",
      "Num heads: 6, head size: 64\n",
      "\n",
      "Num heads: 12, head size: 64 =>\n",
      "Num heads: 6, head size: 64\n",
      "\n",
      "Num heads: 12, head size: 64 =>\n",
      "Num heads: 6, head size: 64\n",
      "\n",
      "Num heads: 12, head size: 64 =>\n",
      "Num heads: 6, head size: 64\n",
      "\n",
      "Num heads: 12, head size: 64 =>\n",
      "Num heads: 6, head size: 64\n",
      "\n",
      "Num heads: 12, head size: 64 =>\n",
      "Num heads: 6, head size: 64\n",
      "\n",
      "Warning! No positional inputs found for a module, assuming batch size is 1.\n"
     ]
    },
    {
     "name": "stderr",
     "output_type": "stream",
     "text": [
      "INFO:root:Model complexity (After taylor pruning): 88430.840064 MMAC, 85.845504 M params\n"
     ]
    }
   ],
   "source": [
    "prune_model(model, datamodule)"
   ]
  },
  {
   "cell_type": "code",
   "execution_count": 6,
   "id": "62cbd7f5-be6b-4c5d-b667-b60f42ea8215",
   "metadata": {},
   "outputs": [
    {
     "name": "stdout",
     "output_type": "stream",
     "text": [
      "Оригинальная модель--------\n",
      "общий размер \t 128,345,088\n",
      "эмбеддинги \t 42,700,032\n",
      "энкодер \t 85,054,464\n",
      "Запруненная модель---------\n",
      "общий размер \t 85,845,504\n",
      "эмбеддинги \t 42,700,032\n",
      "энкодер \t 42,554,880\n"
     ]
    }
   ],
   "source": [
    "print('Оригинальная модель--------')\n",
    "print('общий размер \\t {:,}'.format(msize(model.teacher_model)))\n",
    "print('эмбеддинги \\t {:,}'.format(msize(model.teacher_model.embeddings)))\n",
    "print('энкодер \\t {:,}'.format(msize(model.teacher_model.encoder)))\n",
    "print('Запруненная модель---------')\n",
    "print('общий размер \\t {:,}'.format(msize(model.student_model)))\n",
    "print('эмбеддинги \\t {:,}'.format(msize(model.student_model.embeddings)))\n",
    "print('энкодер \\t {:,}'.format(msize(model.student_model.encoder)))"
   ]
  },
  {
   "cell_type": "code",
   "execution_count": 7,
   "id": "6c1af7be-48b2-4ebe-9cf5-3af0d058ac39",
   "metadata": {},
   "outputs": [
    {
     "data": {
      "text/plain": [
       "BertEncoder(\n",
       "  (layer): ModuleList(\n",
       "    (0-11): 12 x BertLayer(\n",
       "      (attention): BertAttention(\n",
       "        (self): BertSelfAttention(\n",
       "          (query): Linear(in_features=768, out_features=384, bias=True)\n",
       "          (key): Linear(in_features=768, out_features=384, bias=True)\n",
       "          (value): Linear(in_features=768, out_features=384, bias=True)\n",
       "          (dropout): Dropout(p=0.1, inplace=False)\n",
       "        )\n",
       "        (output): BertSelfOutput(\n",
       "          (dense): Linear(in_features=384, out_features=768, bias=True)\n",
       "          (LayerNorm): LayerNorm((768,), eps=1e-12, elementwise_affine=True)\n",
       "          (dropout): Dropout(p=0.1, inplace=False)\n",
       "        )\n",
       "      )\n",
       "      (intermediate): BertIntermediate(\n",
       "        (dense): Linear(in_features=768, out_features=1536, bias=True)\n",
       "        (intermediate_act_fn): GELUActivation()\n",
       "      )\n",
       "      (output): BertOutput(\n",
       "        (dense): Linear(in_features=1536, out_features=768, bias=True)\n",
       "        (LayerNorm): LayerNorm((768,), eps=1e-12, elementwise_affine=True)\n",
       "        (dropout): Dropout(p=0.1, inplace=False)\n",
       "      )\n",
       "    )\n",
       "  )\n",
       ")"
      ]
     },
     "execution_count": 7,
     "metadata": {},
     "output_type": "execute_result"
    }
   ],
   "source": [
    "model.student_model.encoder"
   ]
  },
  {
   "cell_type": "code",
   "execution_count": 8,
   "id": "788021f2-226b-4c61-a9db-365fc0091b56",
   "metadata": {},
   "outputs": [
    {
     "data": {
      "text/plain": [
       "BertEncoder(\n",
       "  (layer): ModuleList(\n",
       "    (0-11): 12 x BertLayer(\n",
       "      (attention): BertAttention(\n",
       "        (self): BertSelfAttention(\n",
       "          (query): Linear(in_features=768, out_features=768, bias=True)\n",
       "          (key): Linear(in_features=768, out_features=768, bias=True)\n",
       "          (value): Linear(in_features=768, out_features=768, bias=True)\n",
       "          (dropout): Dropout(p=0.1, inplace=False)\n",
       "        )\n",
       "        (output): BertSelfOutput(\n",
       "          (dense): Linear(in_features=768, out_features=768, bias=True)\n",
       "          (LayerNorm): LayerNorm((768,), eps=1e-12, elementwise_affine=True)\n",
       "          (dropout): Dropout(p=0.1, inplace=False)\n",
       "        )\n",
       "      )\n",
       "      (intermediate): BertIntermediate(\n",
       "        (dense): Linear(in_features=768, out_features=3072, bias=True)\n",
       "        (intermediate_act_fn): GELUActivation()\n",
       "      )\n",
       "      (output): BertOutput(\n",
       "        (dense): Linear(in_features=3072, out_features=768, bias=True)\n",
       "        (LayerNorm): LayerNorm((768,), eps=1e-12, elementwise_affine=True)\n",
       "        (dropout): Dropout(p=0.1, inplace=False)\n",
       "      )\n",
       "    )\n",
       "  )\n",
       ")"
      ]
     },
     "execution_count": 8,
     "metadata": {},
     "output_type": "execute_result"
    }
   ],
   "source": [
    "model.teacher_model.encoder"
   ]
  }
 ],
 "metadata": {
  "kernelspec": {
   "display_name": "Python 3 (ipykernel)",
   "language": "python",
   "name": "python3"
  },
  "language_info": {
   "codemirror_mode": {
    "name": "ipython",
    "version": 3
   },
   "file_extension": ".py",
   "mimetype": "text/x-python",
   "name": "python",
   "nbconvert_exporter": "python",
   "pygments_lexer": "ipython3",
   "version": "3.11.8"
  }
 },
 "nbformat": 4,
 "nbformat_minor": 5
}
